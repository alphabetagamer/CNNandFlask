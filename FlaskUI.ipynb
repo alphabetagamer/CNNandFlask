{
 "cells": [
  {
   "cell_type": "code",
   "execution_count": null,
   "metadata": {},
   "outputs": [],
   "source": []
  },
  {
   "cell_type": "code",
   "execution_count": null,
   "metadata": {},
   "outputs": [],
   "source": []
  },
  {
   "cell_type": "code",
   "execution_count": null,
   "metadata": {},
   "outputs": [],
   "source": []
  },
  {
   "cell_type": "code",
   "execution_count": null,
   "metadata": {},
   "outputs": [],
   "source": []
  },
  {
   "cell_type": "code",
   "execution_count": null,
   "metadata": {},
   "outputs": [
    {
     "name": "stderr",
     "output_type": "stream",
     "text": [
      "Using TensorFlow backend.\n"
     ]
    },
    {
     "name": "stdout",
     "output_type": "stream",
     "text": [
      "WARNING:tensorflow:From D:\\Anaconda\\lib\\site-packages\\tensorflow\\python\\framework\\op_def_library.py:263: colocate_with (from tensorflow.python.framework.ops) is deprecated and will be removed in a future version.\n",
      "Instructions for updating:\n",
      "Colocations handled automatically by placer.\n",
      "WARNING:tensorflow:From D:\\Anaconda\\lib\\site-packages\\tensorflow\\python\\ops\\math_ops.py:3066: to_int32 (from tensorflow.python.ops.math_ops) is deprecated and will be removed in a future version.\n",
      "Instructions for updating:\n",
      "Use tf.cast instead.\n",
      " * Serving Flask app \"__main__\" (lazy loading)\n",
      " * Environment: production\n",
      "   WARNING: Do not use the development server in a production environment.\n",
      "   Use a production WSGI server instead.\n",
      " * Debug mode: off\n"
     ]
    },
    {
     "name": "stderr",
     "output_type": "stream",
     "text": [
      " * Running on http://127.0.0.1:5000/ (Press CTRL+C to quit)\n"
     ]
    }
   ],
   "source": [
    "import os\n",
    "import flask\n",
    "import numpy as np\n",
    "import keras\n",
    "import tensorflow as tf\n",
    "from keras.models import load_model\n",
    "from flask import Flask, render_template, request\n",
    "from flask_dropzone import Dropzone\n",
    "from keras.preprocessing import image\n",
    "app = Flask(__name__)\n",
    "def init():\n",
    "    global model,graph\n",
    "    # load the pre-trained Keras model\n",
    "    model = load_model('Malaria.h5')\n",
    "    graph = tf.get_default_graph()\n",
    "    \n",
    "app.config.update(\n",
    "    UPLOADED_PATH=\"/Users/lokin/OneDrive/Desktop/Major Final/CNN/upload/\",\n",
    "    # Flask-Dropzone config:\n",
    "    DROPZONE_ALLOWED_FILE_TYPE='image',\n",
    "    DROPZONE_MAX_FILE_SIZE=3,\n",
    "    DROPZONE_MAX_FILES=3000,\n",
    "    DROPZONE_UPLOAD_ON_CLICK=True,\n",
    "    DROPZONE_REDIRECT_VIEW='completed'  # set redirect view\n",
    ")\n",
    "Files=[]\n",
    "Results=[]\n",
    "\n",
    "\n",
    "dropzone = Dropzone(app)\n",
    "@app.route('/', methods=['POST', 'GET'])\n",
    "def upload():\n",
    "    if request.method == 'POST':\n",
    "        i=0\n",
    "        for key, f in request.files.items():\n",
    "            if key.startswith('file'):\n",
    "                f.save(os.path.join(app.config['UPLOADED_PATH'], f.filename))\n",
    "                Files.append(os.path.join(app.config['UPLOADED_PATH'], f.filename))           \n",
    "    return render_template('index.html')\n",
    "\n",
    "@app.route('/completed')\n",
    "def completed():\n",
    "    i=0\n",
    "    img=[]\n",
    "    j=0\n",
    "    for x in Files:\n",
    "        test_image= image.load_img(x, target_size = (64, 64)) \n",
    "        test_image = image.img_to_array(test_image)\n",
    "        test_image = test_image/255\n",
    "        test_image = np.expand_dims(test_image, axis = 3)\n",
    "        test_image = test_image.reshape(1,64, 64, 3)\n",
    "#         Img = x.split('/')\n",
    "#         print(Img)\n",
    "#         img.append(Img[-1])\n",
    "#         print(img)\n",
    "        with graph.as_default():\n",
    "            result = model.predict(test_image)   \n",
    "        if(round(result[0][0])==0):\n",
    "            Results.append(\"Infected\")\n",
    "            i=i+1\n",
    "        else:\n",
    "            Results.append(\"UnInfected\")\n",
    "            j=j+1\n",
    "        k=(i/(i+j))*100\n",
    "    print(i)\n",
    "    print(j)\n",
    "    print(k)\n",
    "    return render_template('results.html', i=i,j=j,k=k)\n",
    "    \n",
    "\n",
    "\n",
    "if __name__ == '__main__':\n",
    "    init()\n",
    "    app.run(threaded=True)"
   ]
  },
  {
   "cell_type": "code",
   "execution_count": null,
   "metadata": {},
   "outputs": [],
   "source": []
  },
  {
   "cell_type": "code",
   "execution_count": null,
   "metadata": {},
   "outputs": [],
   "source": []
  },
  {
   "cell_type": "code",
   "execution_count": null,
   "metadata": {},
   "outputs": [],
   "source": []
  },
  {
   "cell_type": "code",
   "execution_count": null,
   "metadata": {},
   "outputs": [],
   "source": []
  }
 ],
 "metadata": {
  "kernelspec": {
   "display_name": "Python 3",
   "language": "python",
   "name": "python3"
  },
  "language_info": {
   "codemirror_mode": {
    "name": "ipython",
    "version": 3
   },
   "file_extension": ".py",
   "mimetype": "text/x-python",
   "name": "python",
   "nbconvert_exporter": "python",
   "pygments_lexer": "ipython3",
   "version": "3.7.3"
  }
 },
 "nbformat": 4,
 "nbformat_minor": 2
}
