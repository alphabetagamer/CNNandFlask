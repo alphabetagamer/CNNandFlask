{
 "cells": [
  {
   "cell_type": "code",
   "execution_count": 1,
   "metadata": {},
   "outputs": [
    {
     "name": "stderr",
     "output_type": "stream",
     "text": [
      "Using TensorFlow backend.\n",
      "D:\\Anaconda\\lib\\site-packages\\ipykernel_launcher.py:25: UserWarning: Update your `Conv2D` call to the Keras 2 API: `Conv2D(32, (3, 3), input_shape=(64, 64, 3..., activation=\"relu\")`\n"
     ]
    },
    {
     "name": "stdout",
     "output_type": "stream",
     "text": [
      "WARNING:tensorflow:From D:\\Anaconda\\lib\\site-packages\\tensorflow\\python\\framework\\op_def_library.py:263: colocate_with (from tensorflow.python.framework.ops) is deprecated and will be removed in a future version.\n",
      "Instructions for updating:\n",
      "Colocations handled automatically by placer.\n"
     ]
    },
    {
     "name": "stderr",
     "output_type": "stream",
     "text": [
      "D:\\Anaconda\\lib\\site-packages\\ipykernel_launcher.py:31: UserWarning: Update your `Conv2D` call to the Keras 2 API: `Conv2D(32, (3, 3), activation=\"relu\")`\n",
      "D:\\Anaconda\\lib\\site-packages\\ipykernel_launcher.py:38: UserWarning: Update your `Dense` call to the Keras 2 API: `Dense(activation=\"relu\", units=128)`\n",
      "D:\\Anaconda\\lib\\site-packages\\ipykernel_launcher.py:39: UserWarning: Update your `Dense` call to the Keras 2 API: `Dense(activation=\"sigmoid\", units=1)`\n"
     ]
    },
    {
     "name": "stdout",
     "output_type": "stream",
     "text": [
      "Found 24502 images belonging to 2 classes.\n",
      "Found 3056 images belonging to 2 classes.\n",
      "WARNING:tensorflow:From D:\\Anaconda\\lib\\site-packages\\tensorflow\\python\\ops\\math_ops.py:3066: to_int32 (from tensorflow.python.ops.math_ops) is deprecated and will be removed in a future version.\n",
      "Instructions for updating:\n",
      "Use tf.cast instead.\n"
     ]
    },
    {
     "name": "stderr",
     "output_type": "stream",
     "text": [
      "D:\\Anaconda\\lib\\site-packages\\ipykernel_launcher.py:69: UserWarning: The semantics of the Keras 2 argument `steps_per_epoch` is not the same as the Keras 1 argument `samples_per_epoch`. `steps_per_epoch` is the number of batches to draw from the generator at each epoch. Basically steps_per_epoch = samples_per_epoch/batch_size. Similarly `nb_val_samples`->`validation_steps` and `val_samples`->`steps` arguments have changed. Update your method calls accordingly.\n",
      "D:\\Anaconda\\lib\\site-packages\\ipykernel_launcher.py:69: UserWarning: Update your `fit_generator` call to the Keras 2 API: `fit_generator(<keras_pre..., validation_data=<keras_pre..., steps_per_epoch=312, epochs=25, validation_steps=1000)`\n"
     ]
    },
    {
     "name": "stdout",
     "output_type": "stream",
     "text": [
      "Epoch 1/25\n",
      "312/312 [==============================] - 174s 557ms/step - loss: 0.6434 - acc: 0.6210 - val_loss: 0.7044 - val_acc: 0.6630\n",
      "Epoch 2/25\n",
      "312/312 [==============================] - 170s 545ms/step - loss: 0.4169 - acc: 0.8240 - val_loss: 0.2985 - val_acc: 0.8677\n",
      "Epoch 3/25\n",
      "312/312 [==============================] - 174s 557ms/step - loss: 0.2624 - acc: 0.9029 - val_loss: 0.2792 - val_acc: 0.8620\n",
      "Epoch 4/25\n",
      "312/312 [==============================] - 156s 501ms/step - loss: 0.2278 - acc: 0.9168 - val_loss: 0.2949 - val_acc: 0.8488\n",
      "Epoch 5/25\n",
      "312/312 [==============================] - 163s 522ms/step - loss: 0.2041 - acc: 0.9252 - val_loss: 0.2375 - val_acc: 0.8848\n",
      "Epoch 6/25\n",
      "312/312 [==============================] - 169s 542ms/step - loss: 0.1841 - acc: 0.9338 - val_loss: 0.1858 - val_acc: 0.9088\n",
      "Epoch 7/25\n",
      "312/312 [==============================] - 166s 532ms/step - loss: 0.1921 - acc: 0.9340 - val_loss: 0.2260 - val_acc: 0.9009\n",
      "Epoch 8/25\n",
      "312/312 [==============================] - 178s 571ms/step - loss: 0.1745 - acc: 0.9416 - val_loss: 0.2025 - val_acc: 0.9094\n",
      "Epoch 9/25\n",
      "312/312 [==============================] - 173s 556ms/step - loss: 0.1622 - acc: 0.9449 - val_loss: 0.1374 - val_acc: 0.9590\n",
      "Epoch 10/25\n",
      "312/312 [==============================] - 172s 551ms/step - loss: 0.1698 - acc: 0.9436 - val_loss: 0.1423 - val_acc: 0.9494\n",
      "Epoch 11/25\n",
      "312/312 [==============================] - 171s 547ms/step - loss: 0.1592 - acc: 0.9473 - val_loss: 0.1606 - val_acc: 0.9397\n",
      "Epoch 12/25\n",
      "312/312 [==============================] - 175s 562ms/step - loss: 0.1541 - acc: 0.9485 - val_loss: 0.1248 - val_acc: 0.9606\n",
      "Epoch 13/25\n",
      "312/312 [==============================] - 175s 560ms/step - loss: 0.1528 - acc: 0.9486 - val_loss: 0.1392 - val_acc: 0.9529\n",
      "Epoch 14/25\n",
      "312/312 [==============================] - 166s 532ms/step - loss: 0.1386 - acc: 0.9536 - val_loss: 0.1149 - val_acc: 0.9642\n",
      "Epoch 15/25\n",
      "312/312 [==============================] - 162s 520ms/step - loss: 0.1421 - acc: 0.9513 - val_loss: 0.1406 - val_acc: 0.9524\n",
      "Epoch 16/25\n",
      "312/312 [==============================] - 161s 515ms/step - loss: 0.1391 - acc: 0.9515 - val_loss: 0.1376 - val_acc: 0.9536\n",
      "Epoch 17/25\n",
      "312/312 [==============================] - 162s 520ms/step - loss: 0.1429 - acc: 0.9527 - val_loss: 0.1235 - val_acc: 0.9608\n",
      "Epoch 18/25\n",
      "312/312 [==============================] - 160s 512ms/step - loss: 0.1348 - acc: 0.9563 - val_loss: 0.1348 - val_acc: 0.9527\n",
      "Epoch 19/25\n",
      "312/312 [==============================] - 153s 492ms/step - loss: 0.1266 - acc: 0.9577 - val_loss: 0.1092 - val_acc: 0.9635\n",
      "Epoch 20/25\n",
      "312/312 [==============================] - 156s 500ms/step - loss: 0.1391 - acc: 0.9512 - val_loss: 0.1394 - val_acc: 0.9539\n",
      "Epoch 21/25\n",
      "312/312 [==============================] - 158s 506ms/step - loss: 0.1319 - acc: 0.9548 - val_loss: 0.1291 - val_acc: 0.9567\n",
      "Epoch 22/25\n",
      "312/312 [==============================] - 160s 512ms/step - loss: 0.1245 - acc: 0.9573 - val_loss: 0.1504 - val_acc: 0.9423\n",
      "Epoch 23/25\n",
      "312/312 [==============================] - 159s 511ms/step - loss: 0.1278 - acc: 0.9563 - val_loss: 0.1392 - val_acc: 0.9540\n",
      "Epoch 24/25\n",
      "312/312 [==============================] - 157s 504ms/step - loss: 0.1226 - acc: 0.9585 - val_loss: 0.1317 - val_acc: 0.9549\n",
      "Epoch 25/25\n",
      "312/312 [==============================] - 163s 522ms/step - loss: 0.1187 - acc: 0.9608 - val_loss: 0.1378 - val_acc: 0.9576\n"
     ]
    },
    {
     "data": {
      "text/plain": [
       "<keras.callbacks.History at 0x2205252be80>"
      ]
     },
     "execution_count": 1,
     "metadata": {},
     "output_type": "execute_result"
    }
   ],
   "source": [
    "\n",
    "from keras.models import Sequential\n",
    "from keras.layers import Convolution2D\n",
    "from keras.layers import MaxPooling2D\n",
    "from keras.layers import Flatten\n",
    "from keras.layers import Dense\n",
    "\n",
    "# Initialising the CNN\n",
    "classifier = Sequential()\n",
    "\n",
    "# Step 1 - Convolution\n",
    "classifier.add(Convolution2D(32, 3, 3, input_shape = (64, 64, 3), activation = 'relu'))\n",
    "\n",
    "# Step 2 - Pooling\n",
    "classifier.add(MaxPooling2D(pool_size = (2, 2)))\n",
    "\n",
    "# Adding a second convolutional layer\n",
    "classifier.add(Convolution2D(32, 3, 3, activation = 'relu'))\n",
    "classifier.add(MaxPooling2D(pool_size = (2, 2)))\n",
    "\n",
    "# Step 3 - Flattening\n",
    "classifier.add(Flatten())\n",
    "\n",
    "# Step 4 - Full connection\n",
    "classifier.add(Dense(output_dim = 128, activation = 'relu'))\n",
    "classifier.add(Dense(output_dim = 1, activation = 'sigmoid'))\n",
    "\n",
    "# Compiling the CNN\n",
    "classifier.compile(optimizer = 'adam', loss = 'binary_crossentropy',metrics=['acc'])\n",
    "\n",
    "\n",
    "from keras.preprocessing.image import ImageDataGenerator\n",
    "\n",
    "train_datagen = ImageDataGenerator(rescale = 1./255,\n",
    "                                   shear_range = 0.2,\n",
    "                                   zoom_range = 0.2,\n",
    "                                   horizontal_flip = True)\n",
    "\n",
    "test_datagen = ImageDataGenerator(rescale = 1./255)\n",
    "\n",
    "training_set = train_datagen.flow_from_directory('/Users/lokin/OneDrive/Desktop/Major Final/CNN/cell_images/',\n",
    "                                                 target_size = (64, 64),\n",
    "                                                 batch_size = 32,\n",
    "                                                 class_mode = 'binary')\n",
    "\n",
    "test_set = test_datagen.flow_from_directory('/Users/lokin/OneDrive/Desktop/Major Final/CNN//testset/',\n",
    "                                            target_size = (64, 64),\n",
    "                                            batch_size = 32,\n",
    "                                            class_mode = 'binary')\n",
    "\n",
    "classifier.fit_generator(training_set,\n",
    "                         samples_per_epoch =10000,\n",
    "                         nb_epoch = 25,\n",
    "                         validation_data = test_set,\n",
    "                         nb_val_samples = 1000)"
   ]
  },
  {
   "cell_type": "code",
   "execution_count": 2,
   "metadata": {},
   "outputs": [],
   "source": [
    "classifier.save(\"Malaria.h5\")"
   ]
  },
  {
   "cell_type": "code",
   "execution_count": null,
   "metadata": {},
   "outputs": [],
   "source": []
  },
  {
   "cell_type": "code",
   "execution_count": null,
   "metadata": {},
   "outputs": [],
   "source": []
  },
  {
   "cell_type": "code",
   "execution_count": null,
   "metadata": {},
   "outputs": [],
   "source": []
  }
 ],
 "metadata": {
  "kernelspec": {
   "display_name": "Python 3",
   "language": "python",
   "name": "python3"
  },
  "language_info": {
   "codemirror_mode": {
    "name": "ipython",
    "version": 3
   },
   "file_extension": ".py",
   "mimetype": "text/x-python",
   "name": "python",
   "nbconvert_exporter": "python",
   "pygments_lexer": "ipython3",
   "version": "3.7.3"
  }
 },
 "nbformat": 4,
 "nbformat_minor": 2
}
